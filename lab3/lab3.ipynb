{
 "cells": [
  {
   "metadata": {
    "ExecuteTime": {
     "end_time": "2025-06-09T09:29:43.198099Z",
     "start_time": "2025-06-09T09:29:41.505053Z"
    }
   },
   "cell_type": "code",
   "source": [
    "import os\n",
    "import json\n",
    "\n",
    "from langchain_community.embeddings import HuggingFaceEmbeddings\n",
    "from langchain_community.vectorstores import FAISS\n",
    "from langchain_community.llms import Ollama\n",
    "from langchain.chains import RetrievalQA\n",
    "from langchain_core.documents import Document\n",
    "from groq import Groq"
   ],
   "id": "fb7787937c11a60a",
   "outputs": [],
   "execution_count": 2
  },
  {
   "metadata": {
    "ExecuteTime": {
     "end_time": "2025-06-09T09:29:43.205433Z",
     "start_time": "2025-06-09T09:29:43.201108Z"
    }
   },
   "cell_type": "code",
   "source": "os.makedirs(\"data\", exist_ok=True)",
   "id": "9f45cfadf19a176d",
   "outputs": [],
   "execution_count": 3
  },
  {
   "metadata": {
    "ExecuteTime": {
     "end_time": "2025-06-09T09:29:50.081672Z",
     "start_time": "2025-06-09T09:29:43.212940Z"
    }
   },
   "cell_type": "code",
   "source": [
    "\n",
    "with open(\"data/simplified_squad_300.json\", \"r\", encoding=\"utf-8\") as f:\n",
    "    data = json.load(f)\n",
    "\n",
    "documents = [Document(page_content=d[\"context\"]) for d in data]\n",
    "embedding_model = HuggingFaceEmbeddings(model_name=\"sentence-transformers/all-MiniLM-L6-v2\")\n",
    "vectorstore = FAISS.from_documents(documents, embedding_model)\n",
    "retriever = vectorstore.as_retriever(search_kwargs={\"k\": 10})\n",
    "\n",
    "llm = Ollama(model=\"phi3\")\n",
    "\n",
    "rag_chain = RetrievalQA.from_chain_type(\n",
    "    llm=llm,\n",
    "    retriever=retriever,\n",
    "    return_source_documents=False\n",
    ")"
   ],
   "id": "5862b790b4678af3",
   "outputs": [
    {
     "name": "stderr",
     "output_type": "stream",
     "text": [
      "C:\\Users\\Samurai\\AppData\\Local\\Temp\\ipykernel_6980\\1333066630.py:5: LangChainDeprecationWarning: The class `HuggingFaceEmbeddings` was deprecated in LangChain 0.2.2 and will be removed in 1.0. An updated version of the class exists in the :class:`~langchain-huggingface package and should be used instead. To use it run `pip install -U :class:`~langchain-huggingface` and import as `from :class:`~langchain_huggingface import HuggingFaceEmbeddings``.\n",
      "  embedding_model = HuggingFaceEmbeddings(model_name=\"sentence-transformers/all-MiniLM-L6-v2\")\n",
      "C:\\Users\\Samurai\\AppData\\Local\\Temp\\ipykernel_6980\\1333066630.py:9: LangChainDeprecationWarning: The class `Ollama` was deprecated in LangChain 0.3.1 and will be removed in 1.0.0. An updated version of the class exists in the :class:`~langchain-ollama package and should be used instead. To use it run `pip install -U :class:`~langchain-ollama` and import as `from :class:`~langchain_ollama import OllamaLLM``.\n",
      "  llm = Ollama(model=\"phi3\")\n"
     ]
    }
   ],
   "execution_count": 4
  },
  {
   "metadata": {
    "ExecuteTime": {
     "end_time": "2025-06-09T09:31:48.610110Z",
     "start_time": "2025-06-09T09:29:50.092188Z"
    }
   },
   "cell_type": "code",
   "source": [
    "# Baseline + Rag answers\n",
    "\n",
    "baseline_results = []\n",
    "for sample in data[:20]:\n",
    "    question = sample[\"question\"]\n",
    "    gt_answer = sample[\"answer\"]\n",
    "    response = llm.invoke(question)\n",
    "    baseline_results.append({\n",
    "        \"question\": question,\n",
    "        \"ground_truth\": gt_answer,\n",
    "        \"generated\": response\n",
    "    })\n",
    "\n",
    "with open(\"data/baseline_answers.json\", \"w\", encoding=\"utf-8\") as f:\n",
    "    json.dump(baseline_results, f, ensure_ascii=False, indent=2)\n",
    "print(\"✅ baseline_answers.json готово\")\n",
    "\n",
    "rag_results = []\n",
    "for sample in data[:20]:\n",
    "    question = sample[\"question\"]\n",
    "    gt_answer = sample[\"answer\"]\n",
    "    result = rag_chain.run(question)\n",
    "    rag_results.append({\n",
    "        \"question\": question,\n",
    "        \"ground_truth\": gt_answer,\n",
    "        \"generated\": result\n",
    "    })\n",
    "\n",
    "with open(\"data/rag_answers.json\", \"w\", encoding=\"utf-8\") as f:\n",
    "    json.dump(rag_results, f, ensure_ascii=False, indent=2)\n",
    "print(\"✅ rag_answers.json готово\")"
   ],
   "id": "ef392ebbdb0510c5",
   "outputs": [
    {
     "name": "stdout",
     "output_type": "stream",
     "text": [
      "✅ baseline_answers.json готово\n"
     ]
    },
    {
     "name": "stderr",
     "output_type": "stream",
     "text": [
      "C:\\Users\\Samurai\\AppData\\Local\\Temp\\ipykernel_6980\\2221411758.py:22: LangChainDeprecationWarning: The method `Chain.run` was deprecated in langchain 0.1.0 and will be removed in 1.0. Use :meth:`~invoke` instead.\n",
      "  result = rag_chain.run(question)\n"
     ]
    },
    {
     "name": "stdout",
     "output_type": "stream",
     "text": [
      "✅ rag_answers.json готово\n"
     ]
    }
   ],
   "execution_count": 5
  },
  {
   "metadata": {
    "ExecuteTime": {
     "end_time": "2025-06-09T09:31:48.868806Z",
     "start_time": "2025-06-09T09:31:48.634385Z"
    }
   },
   "cell_type": "code",
   "source": [
    "from lab3.SECRET import API\n",
    "client = Groq(api_key=API)"
   ],
   "id": "71d0425e230de6af",
   "outputs": [],
   "execution_count": 6
  },
  {
   "metadata": {
    "ExecuteTime": {
     "end_time": "2025-06-09T09:31:48.875822Z",
     "start_time": "2025-06-09T09:31:48.871810Z"
    }
   },
   "cell_type": "code",
   "source": [
    "# Judge\n",
    "\n",
    "JUDGE_PROMPT_TEMPLATE = \"\"\"\n",
    "You are an impartial judge evaluating answer correctness.\n",
    "\n",
    "QUESTION: {question}\n",
    "GROUND TRUTH: {ground_truth}\n",
    "CANDIDATE ANSWER: {generated}\n",
    "\n",
    "On a scale from 1 to 5, where:\n",
    "1 = completely wrong\n",
    "2 = mostly wrong\n",
    "3 = partially correct\n",
    "4 = mostly correct\n",
    "5 = perfect answer\n",
    "\n",
    "Respond with ONLY the score.\n",
    "\"\"\"\n",
    "\n",
    "def evaluate_answer(question, ground_truth, generated):\n",
    "    prompt = JUDGE_PROMPT_TEMPLATE.format(\n",
    "        question=question,\n",
    "        ground_truth=ground_truth,\n",
    "        generated=generated\n",
    "    )\n",
    "    response = client.chat.completions.create(\n",
    "        model=\"llama3-70b-8192\",  # або будь-яка інша доступна модель\n",
    "        messages=[{\"role\": \"user\", \"content\": prompt}]\n",
    "    )\n",
    "    return response.choices[0].message.content.strip()"
   ],
   "id": "eae5d32556d72104",
   "outputs": [],
   "execution_count": 7
  },
  {
   "metadata": {
    "ExecuteTime": {
     "end_time": "2025-06-09T09:32:20.855129Z",
     "start_time": "2025-06-09T09:31:48.882831Z"
    }
   },
   "cell_type": "code",
   "source": [
    "# Evaluate\n",
    "\n",
    "def evaluate_file(input_file, output_file):\n",
    "    with open(f\"data/{input_file}\", \"r\", encoding=\"utf-8\") as f:\n",
    "        data = json.load(f)\n",
    "\n",
    "    results = []\n",
    "    for item in data:\n",
    "        score = evaluate_answer(item[\"question\"], item[\"ground_truth\"], item[\"generated\"])\n",
    "        item[\"judge_score\"] = score\n",
    "        results.append(item)\n",
    "\n",
    "    with open(f\"data/{output_file}\", \"w\", encoding=\"utf-8\") as f:\n",
    "        json.dump(results, f, ensure_ascii=False, indent=2)\n",
    "\n",
    "evaluate_file(\"baseline_answers.json\", \"baseline_scored.json\")\n",
    "print(\"✅ baseline_scored.json оцінено\")\n",
    "\n",
    "evaluate_file(\"rag_answers.json\", \"rag_scored.json\")\n",
    "print(\"✅ rag_scored.json оцінено\")"
   ],
   "id": "604ac575e62281a1",
   "outputs": [
    {
     "name": "stdout",
     "output_type": "stream",
     "text": [
      "✅ baseline_scored.json оцінено\n",
      "✅ rag_scored.json оцінено\n"
     ]
    }
   ],
   "execution_count": 8
  },
  {
   "metadata": {
    "ExecuteTime": {
     "end_time": "2025-06-09T09:32:23.448038Z",
     "start_time": "2025-06-09T09:32:20.868710Z"
    }
   },
   "cell_type": "code",
   "source": [
    "# RECALL\n",
    "\n",
    "test_samples = data[:100]\n",
    "k_values = [10, 15, 20, 25, 30]\n",
    "recall_scores = {k: 0 for k in k_values}\n",
    "\n",
    "for sample in test_samples:\n",
    "    question = sample[\"question\"]\n",
    "    ground_truth = sample[\"answer\"].strip().lower()\n",
    "\n",
    "    for k in k_values:\n",
    "        retriever = vectorstore.as_retriever(search_kwargs={\"k\": k})\n",
    "        retrieved_docs = retriever.invoke(question)\n",
    "        hit = any(ground_truth in doc.page_content.lower() for doc in retrieved_docs)\n",
    "        if hit:\n",
    "            recall_scores[k] += 1\n",
    "\n",
    "total = len(test_samples)\n",
    "for k in k_values:\n",
    "    recall_at_k = recall_scores[k] / total\n",
    "    print(f\"Recall@{k}: {recall_at_k:.2f}\")"
   ],
   "id": "d2896417bab79284",
   "outputs": [
    {
     "name": "stdout",
     "output_type": "stream",
     "text": [
      "Recall@10: 1.00\n",
      "Recall@15: 1.00\n",
      "Recall@20: 1.00\n",
      "Recall@25: 1.00\n",
      "Recall@30: 1.00\n"
     ]
    }
   ],
   "execution_count": 9
  },
  {
   "metadata": {
    "ExecuteTime": {
     "end_time": "2025-06-09T09:33:21.351403Z",
     "start_time": "2025-06-09T09:33:21.347246Z"
    }
   },
   "cell_type": "code",
   "source": [
    "def load_scores(filepath):\n",
    "    with open(filepath, \"r\", encoding=\"utf-8\") as f:\n",
    "        data = json.load(f)\n",
    "    scores = [int(item[\"judge_score\"]) for item in data if str(item[\"judge_score\"]).isdigit()]\n",
    "    avg_score = sum(scores) / len(scores)\n",
    "    return avg_score\n",
    "\n",
    "rag_avg = load_scores(\"data/rag_scored.json\")\n",
    "baseline_avg = load_scores(\"data/baseline_scored.json\")\n",
    "\n",
    "print(f\"Середня оцінка baseline: {baseline_avg:.2f}\")\n",
    "print(f\"Середня оцінка RAG: {rag_avg:.2f}\")"
   ],
   "id": "47ca7d73da37f753",
   "outputs": [
    {
     "name": "stdout",
     "output_type": "stream",
     "text": [
      "Середня оцінка baseline: 2.10\n",
      "Середня оцінка RAG: 4.95\n"
     ]
    }
   ],
   "execution_count": 10
  }
 ],
 "metadata": {},
 "nbformat": 4,
 "nbformat_minor": 5
}
